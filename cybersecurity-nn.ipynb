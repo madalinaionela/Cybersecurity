{
 "cells": [
  {
   "cell_type": "code",
   "execution_count": 14,
   "metadata": {
    "execution": {
     "iopub.execute_input": "2025-01-07T22:01:34.640273Z",
     "iopub.status.busy": "2025-01-07T22:01:34.639937Z",
     "iopub.status.idle": "2025-01-07T22:01:35.711229Z",
     "shell.execute_reply": "2025-01-07T22:01:35.710093Z",
     "shell.execute_reply.started": "2025-01-07T22:01:34.640248Z"
    },
    "trusted": true
   },
   "outputs": [],
   "source": [
    "import torch\n",
    "import torch.nn as nn\n",
    "import torch.optim as optim\n",
    "from torch.utils.data import TensorDataset, DataLoader\n",
    "from sklearn.model_selection import train_test_split"
   ]
  },
  {
   "cell_type": "markdown",
   "metadata": {},
   "source": [
    "## dataset"
   ]
  },
  {
   "cell_type": "code",
   "execution_count": 3,
   "metadata": {
    "execution": {
     "iopub.execute_input": "2025-01-07T21:46:29.986232Z",
     "iopub.status.busy": "2025-01-07T21:46:29.985955Z",
     "iopub.status.idle": "2025-01-07T21:46:34.673739Z",
     "shell.execute_reply": "2025-01-07T21:46:34.672862Z",
     "shell.execute_reply.started": "2025-01-07T21:46:29.986213Z"
    },
    "trusted": true
   },
   "outputs": [
    {
     "name": "stdout",
     "output_type": "stream",
     "text": [
      "Requirement already satisfied: ucimlrepo in /Users/madalinamone/anaconda3/lib/python3.11/site-packages (0.0.7)\n",
      "Requirement already satisfied: pandas>=1.0.0 in /Users/madalinamone/anaconda3/lib/python3.11/site-packages (from ucimlrepo) (2.0.3)\n",
      "Requirement already satisfied: certifi>=2020.12.5 in /Users/madalinamone/anaconda3/lib/python3.11/site-packages (from ucimlrepo) (2023.11.17)\n",
      "Requirement already satisfied: python-dateutil>=2.8.2 in /Users/madalinamone/anaconda3/lib/python3.11/site-packages (from pandas>=1.0.0->ucimlrepo) (2.8.2)\n",
      "Requirement already satisfied: pytz>=2020.1 in /Users/madalinamone/anaconda3/lib/python3.11/site-packages (from pandas>=1.0.0->ucimlrepo) (2023.3.post1)\n",
      "Requirement already satisfied: tzdata>=2022.1 in /Users/madalinamone/anaconda3/lib/python3.11/site-packages (from pandas>=1.0.0->ucimlrepo) (2023.3)\n",
      "Requirement already satisfied: numpy>=1.21.0 in /Users/madalinamone/anaconda3/lib/python3.11/site-packages (from pandas>=1.0.0->ucimlrepo) (1.25.0)\n",
      "Requirement already satisfied: six>=1.5 in /Users/madalinamone/anaconda3/lib/python3.11/site-packages (from python-dateutil>=2.8.2->pandas>=1.0.0->ucimlrepo) (1.16.0)\n"
     ]
    }
   ],
   "source": [
    "!pip install ucimlrepo"
   ]
  },
  {
   "cell_type": "code",
   "execution_count": 4,
   "metadata": {
    "execution": {
     "iopub.execute_input": "2025-01-07T21:46:36.311095Z",
     "iopub.status.busy": "2025-01-07T21:46:36.310755Z",
     "iopub.status.idle": "2025-01-07T21:46:36.601664Z",
     "shell.execute_reply": "2025-01-07T21:46:36.601007Z",
     "shell.execute_reply.started": "2025-01-07T21:46:36.311071Z"
    },
    "trusted": true
   },
   "outputs": [],
   "source": [
    "from ucimlrepo import fetch_ucirepo "
   ]
  },
  {
   "cell_type": "code",
   "execution_count": 6,
   "metadata": {
    "execution": {
     "iopub.execute_input": "2025-01-07T21:46:43.912138Z",
     "iopub.status.busy": "2025-01-07T21:46:43.911554Z",
     "iopub.status.idle": "2025-01-07T21:46:44.674286Z",
     "shell.execute_reply": "2025-01-07T21:46:44.673213Z",
     "shell.execute_reply.started": "2025-01-07T21:46:43.912110Z"
    },
    "trusted": true
   },
   "outputs": [
    {
     "data": {
      "text/html": [
       "<div>\n",
       "<style scoped>\n",
       "    .dataframe tbody tr th:only-of-type {\n",
       "        vertical-align: middle;\n",
       "    }\n",
       "\n",
       "    .dataframe tbody tr th {\n",
       "        vertical-align: top;\n",
       "    }\n",
       "\n",
       "    .dataframe thead th {\n",
       "        text-align: right;\n",
       "    }\n",
       "</style>\n",
       "<table border=\"1\" class=\"dataframe\">\n",
       "  <thead>\n",
       "    <tr style=\"text-align: right;\">\n",
       "      <th></th>\n",
       "      <th>result</th>\n",
       "    </tr>\n",
       "  </thead>\n",
       "  <tbody>\n",
       "    <tr>\n",
       "      <th>0</th>\n",
       "      <td>-1</td>\n",
       "    </tr>\n",
       "    <tr>\n",
       "      <th>1</th>\n",
       "      <td>-1</td>\n",
       "    </tr>\n",
       "    <tr>\n",
       "      <th>2</th>\n",
       "      <td>-1</td>\n",
       "    </tr>\n",
       "    <tr>\n",
       "      <th>3</th>\n",
       "      <td>-1</td>\n",
       "    </tr>\n",
       "    <tr>\n",
       "      <th>4</th>\n",
       "      <td>1</td>\n",
       "    </tr>\n",
       "  </tbody>\n",
       "</table>\n",
       "</div>"
      ],
      "text/plain": [
       "   result\n",
       "0      -1\n",
       "1      -1\n",
       "2      -1\n",
       "3      -1\n",
       "4       1"
      ]
     },
     "execution_count": 6,
     "metadata": {},
     "output_type": "execute_result"
    }
   ],
   "source": [
    "# fetch dataset \n",
    "phishing_websites = fetch_ucirepo(id=327)\n",
    "\n",
    "X = phishing_websites.data.features \n",
    "y = phishing_websites.data.targets \n",
    "\n",
    "y.head()"
   ]
  },
  {
   "cell_type": "code",
   "execution_count": null,
   "metadata": {},
   "outputs": [],
   "source": []
  },
  {
   "cell_type": "code",
   "execution_count": 7,
   "metadata": {},
   "outputs": [
    {
     "data": {
      "text/html": [
       "<div>\n",
       "<style scoped>\n",
       "    .dataframe tbody tr th:only-of-type {\n",
       "        vertical-align: middle;\n",
       "    }\n",
       "\n",
       "    .dataframe tbody tr th {\n",
       "        vertical-align: top;\n",
       "    }\n",
       "\n",
       "    .dataframe thead th {\n",
       "        text-align: right;\n",
       "    }\n",
       "</style>\n",
       "<table border=\"1\" class=\"dataframe\">\n",
       "  <thead>\n",
       "    <tr style=\"text-align: right;\">\n",
       "      <th></th>\n",
       "      <th>having_ip_address</th>\n",
       "      <th>url_length</th>\n",
       "      <th>shortining_service</th>\n",
       "      <th>having_at_symbol</th>\n",
       "      <th>double_slash_redirecting</th>\n",
       "      <th>prefix_suffix</th>\n",
       "      <th>having_sub_domain</th>\n",
       "      <th>sslfinal_state</th>\n",
       "      <th>domain_registration_length</th>\n",
       "      <th>favicon</th>\n",
       "      <th>...</th>\n",
       "      <th>rightclick</th>\n",
       "      <th>popupwindow</th>\n",
       "      <th>iframe</th>\n",
       "      <th>age_of_domain</th>\n",
       "      <th>dnsrecord</th>\n",
       "      <th>web_traffic</th>\n",
       "      <th>page_rank</th>\n",
       "      <th>google_index</th>\n",
       "      <th>links_pointing_to_page</th>\n",
       "      <th>statistical_report</th>\n",
       "    </tr>\n",
       "  </thead>\n",
       "  <tbody>\n",
       "    <tr>\n",
       "      <th>0</th>\n",
       "      <td>-1</td>\n",
       "      <td>1</td>\n",
       "      <td>1</td>\n",
       "      <td>1</td>\n",
       "      <td>-1</td>\n",
       "      <td>-1</td>\n",
       "      <td>-1</td>\n",
       "      <td>-1</td>\n",
       "      <td>-1</td>\n",
       "      <td>1</td>\n",
       "      <td>...</td>\n",
       "      <td>1</td>\n",
       "      <td>1</td>\n",
       "      <td>1</td>\n",
       "      <td>-1</td>\n",
       "      <td>-1</td>\n",
       "      <td>-1</td>\n",
       "      <td>-1</td>\n",
       "      <td>1</td>\n",
       "      <td>1</td>\n",
       "      <td>-1</td>\n",
       "    </tr>\n",
       "    <tr>\n",
       "      <th>1</th>\n",
       "      <td>1</td>\n",
       "      <td>1</td>\n",
       "      <td>1</td>\n",
       "      <td>1</td>\n",
       "      <td>1</td>\n",
       "      <td>-1</td>\n",
       "      <td>0</td>\n",
       "      <td>1</td>\n",
       "      <td>-1</td>\n",
       "      <td>1</td>\n",
       "      <td>...</td>\n",
       "      <td>1</td>\n",
       "      <td>1</td>\n",
       "      <td>1</td>\n",
       "      <td>-1</td>\n",
       "      <td>-1</td>\n",
       "      <td>0</td>\n",
       "      <td>-1</td>\n",
       "      <td>1</td>\n",
       "      <td>1</td>\n",
       "      <td>1</td>\n",
       "    </tr>\n",
       "    <tr>\n",
       "      <th>2</th>\n",
       "      <td>1</td>\n",
       "      <td>0</td>\n",
       "      <td>1</td>\n",
       "      <td>1</td>\n",
       "      <td>1</td>\n",
       "      <td>-1</td>\n",
       "      <td>-1</td>\n",
       "      <td>-1</td>\n",
       "      <td>-1</td>\n",
       "      <td>1</td>\n",
       "      <td>...</td>\n",
       "      <td>1</td>\n",
       "      <td>1</td>\n",
       "      <td>1</td>\n",
       "      <td>1</td>\n",
       "      <td>-1</td>\n",
       "      <td>1</td>\n",
       "      <td>-1</td>\n",
       "      <td>1</td>\n",
       "      <td>0</td>\n",
       "      <td>-1</td>\n",
       "    </tr>\n",
       "    <tr>\n",
       "      <th>3</th>\n",
       "      <td>1</td>\n",
       "      <td>0</td>\n",
       "      <td>1</td>\n",
       "      <td>1</td>\n",
       "      <td>1</td>\n",
       "      <td>-1</td>\n",
       "      <td>-1</td>\n",
       "      <td>-1</td>\n",
       "      <td>1</td>\n",
       "      <td>1</td>\n",
       "      <td>...</td>\n",
       "      <td>1</td>\n",
       "      <td>1</td>\n",
       "      <td>1</td>\n",
       "      <td>-1</td>\n",
       "      <td>-1</td>\n",
       "      <td>1</td>\n",
       "      <td>-1</td>\n",
       "      <td>1</td>\n",
       "      <td>-1</td>\n",
       "      <td>1</td>\n",
       "    </tr>\n",
       "    <tr>\n",
       "      <th>4</th>\n",
       "      <td>1</td>\n",
       "      <td>0</td>\n",
       "      <td>-1</td>\n",
       "      <td>1</td>\n",
       "      <td>1</td>\n",
       "      <td>-1</td>\n",
       "      <td>1</td>\n",
       "      <td>1</td>\n",
       "      <td>-1</td>\n",
       "      <td>1</td>\n",
       "      <td>...</td>\n",
       "      <td>1</td>\n",
       "      <td>-1</td>\n",
       "      <td>1</td>\n",
       "      <td>-1</td>\n",
       "      <td>-1</td>\n",
       "      <td>0</td>\n",
       "      <td>-1</td>\n",
       "      <td>1</td>\n",
       "      <td>1</td>\n",
       "      <td>1</td>\n",
       "    </tr>\n",
       "  </tbody>\n",
       "</table>\n",
       "<p>5 rows × 30 columns</p>\n",
       "</div>"
      ],
      "text/plain": [
       "   having_ip_address  url_length  shortining_service  having_at_symbol  \\\n",
       "0                 -1           1                   1                 1   \n",
       "1                  1           1                   1                 1   \n",
       "2                  1           0                   1                 1   \n",
       "3                  1           0                   1                 1   \n",
       "4                  1           0                  -1                 1   \n",
       "\n",
       "   double_slash_redirecting  prefix_suffix  having_sub_domain  sslfinal_state  \\\n",
       "0                        -1             -1                 -1              -1   \n",
       "1                         1             -1                  0               1   \n",
       "2                         1             -1                 -1              -1   \n",
       "3                         1             -1                 -1              -1   \n",
       "4                         1             -1                  1               1   \n",
       "\n",
       "   domain_registration_length  favicon  ...  rightclick  popupwindow  iframe  \\\n",
       "0                          -1        1  ...           1            1       1   \n",
       "1                          -1        1  ...           1            1       1   \n",
       "2                          -1        1  ...           1            1       1   \n",
       "3                           1        1  ...           1            1       1   \n",
       "4                          -1        1  ...           1           -1       1   \n",
       "\n",
       "   age_of_domain  dnsrecord  web_traffic  page_rank  google_index  \\\n",
       "0             -1         -1           -1         -1             1   \n",
       "1             -1         -1            0         -1             1   \n",
       "2              1         -1            1         -1             1   \n",
       "3             -1         -1            1         -1             1   \n",
       "4             -1         -1            0         -1             1   \n",
       "\n",
       "   links_pointing_to_page  statistical_report  \n",
       "0                       1                  -1  \n",
       "1                       1                   1  \n",
       "2                       0                  -1  \n",
       "3                      -1                   1  \n",
       "4                       1                   1  \n",
       "\n",
       "[5 rows x 30 columns]"
      ]
     },
     "execution_count": 7,
     "metadata": {},
     "output_type": "execute_result"
    }
   ],
   "source": [
    "X.head()"
   ]
  },
  {
   "cell_type": "code",
   "execution_count": 9,
   "metadata": {},
   "outputs": [],
   "source": [
    "# Suddividi i dati in training e test set\n",
    "X_train, X_test, y_train, y_test = train_test_split(X, y, test_size=0.2, random_state=42)"
   ]
  },
  {
   "cell_type": "code",
   "execution_count": 11,
   "metadata": {},
   "outputs": [
    {
     "name": "stdout",
     "output_type": "stream",
     "text": [
      "having_ip_address             int64\n",
      "url_length                    int64\n",
      "shortining_service            int64\n",
      "having_at_symbol              int64\n",
      "double_slash_redirecting      int64\n",
      "prefix_suffix                 int64\n",
      "having_sub_domain             int64\n",
      "sslfinal_state                int64\n",
      "domain_registration_length    int64\n",
      "favicon                       int64\n",
      "port                          int64\n",
      "https_token                   int64\n",
      "request_url                   int64\n",
      "url_of_anchor                 int64\n",
      "links_in_tags                 int64\n",
      "sfh                           int64\n",
      "submitting_to_email           int64\n",
      "abnormal_url                  int64\n",
      "redirect                      int64\n",
      "on_mouseover                  int64\n",
      "rightclick                    int64\n",
      "popupwindow                   int64\n",
      "iframe                        int64\n",
      "age_of_domain                 int64\n",
      "dnsrecord                     int64\n",
      "web_traffic                   int64\n",
      "page_rank                     int64\n",
      "google_index                  int64\n",
      "links_pointing_to_page        int64\n",
      "statistical_report            int64\n",
      "dtype: object\n",
      "result    int64\n",
      "dtype: object\n"
     ]
    }
   ],
   "source": [
    "print(X_train.dtypes)  # Controlla il tipo di dati delle feature\n",
    "print(y_train.dtypes)"
   ]
  },
  {
   "cell_type": "code",
   "execution_count": 55,
   "metadata": {},
   "outputs": [],
   "source": [
    "# Converte i dati in tensori PyTorch\n",
    "X_train_tensor = torch.tensor(X_train.values.astype(float), dtype=torch.float32)\n",
    "y_train_tensor = torch.tensor(y_train.values.astype(float), dtype=torch.float32)\n",
    "X_test_tensor = torch.tensor(X_test.values.astype(float), dtype=torch.float32)\n",
    "y_test_tensor = torch.tensor(y_test.values.astype(float), dtype=torch.float32)"
   ]
  },
  {
   "cell_type": "code",
   "execution_count": 45,
   "metadata": {},
   "outputs": [],
   "source": [
    "X_train_tensor = X_train_tensor.unsqueeze(1)  # Per avere l'input a un canale per la nn[batch_size, 1, 30]\n",
    "X_test_tensor = X_test_tensor.unsqueeze(1)\n",
    "\n",
    "# Solo se necessario per il calcolo della loss # NON HO ANCORA CAPITO SE SERVE\n",
    "y_train_tensor = y_train_tensor.unsqueeze(1)  # Diventa [batch_size, 1]\n",
    "y_test_tensor = y_test_tensor.unsqueeze(1)    # Diventa [batch_size, 1]"
   ]
  },
  {
   "cell_type": "markdown",
   "metadata": {},
   "source": [
    "https://medium.com/biased-algorithms/what-do-tensordataset-and-dataloader-do-0e1d74c433d3"
   ]
  },
  {
   "cell_type": "code",
   "execution_count": 56,
   "metadata": {},
   "outputs": [],
   "source": [
    "# Creazione del dataset accoppiando feature (X) e target (y)\n",
    "train_dataset = TensorDataset(X_train_tensor, y_train_tensor)\n",
    "test_dataset = TensorDataset(X_test_tensor, y_test_tensor)"
   ]
  },
  {
   "cell_type": "code",
   "execution_count": 57,
   "metadata": {},
   "outputs": [],
   "source": [
    "# Creazione dei DataLoader per gestire i batch durante il training e il test\n",
    "train_loader = DataLoader(train_dataset, batch_size=64, shuffle=True)\n",
    "test_loader = DataLoader(test_dataset, batch_size=64, shuffle=False)"
   ]
  },
  {
   "cell_type": "markdown",
   "metadata": {},
   "source": [
    "# Neural Network for malware detection\n",
    "\n",
    "A simple feedforward neural network with fully connected layers, suitable for binary classification (malware detection)"
   ]
  },
  {
   "cell_type": "code",
   "execution_count": 58,
   "metadata": {
    "execution": {
     "iopub.execute_input": "2025-01-07T22:20:04.857957Z",
     "iopub.status.busy": "2025-01-07T22:20:04.857576Z",
     "iopub.status.idle": "2025-01-07T22:20:04.863339Z",
     "shell.execute_reply": "2025-01-07T22:20:04.862342Z",
     "shell.execute_reply.started": "2025-01-07T22:20:04.857928Z"
    },
    "trusted": true
   },
   "outputs": [],
   "source": [
    "class MalwareDetector(nn.Module):\n",
    "    def __init__(self):\n",
    "        super(MalwareDetector, self).__init__()\n",
    "        \n",
    "        # Primo strato fully connected (input a 30 feature)\n",
    "        self.fc1 = nn.Linear(30, 64)  # 30 features in input, 64 neuroni nel primo layer\n",
    "        self.relu1 = nn.ReLU()  # Funzione di attivazione ReLU\n",
    "        \n",
    "        # Secondo strato fully connected\n",
    "        self.fc2 = nn.Linear(64, 32)  # 64 neuroni in ingresso, 32 neuroni nel secondo layer\n",
    "        self.relu2 = nn.ReLU()  # Funzione di attivazione ReLU\n",
    "        \n",
    "        # Terzo strato fully connected\n",
    "        self.fc3 = nn.Linear(32, 16)  # 32 neuroni in ingresso, 16 neuroni nel terzo layer\n",
    "        self.relu3 = nn.ReLU()  # Funzione di attivazione ReLU\n",
    "        \n",
    "        # Strato di output\n",
    "        self.fc4 = nn.Linear(16, 1)  # 16 neuroni in ingresso, 1 neurone di output per la classificazione binaria\n",
    "        self.sigmoid = nn.Sigmoid()  # Funzione di attivazione Sigmoid per output binario\n",
    "\n",
    "    def forward(self, x):\n",
    "        x = self.relu1(self.fc1(x))  # Passa attraverso il primo strato con ReLU\n",
    "        x = self.relu2(self.fc2(x))  # Passa attraverso il secondo strato con ReLU\n",
    "        x = self.relu3(self.fc3(x))  # Passa attraverso il terzo strato con ReLU\n",
    "        x = self.fc4(x)              # Passa attraverso il layer finale\n",
    "        x = self.sigmoid(x)          # Attivazione sigmoid per ottenere un output tra 0 e 1\n",
    "        return x"
   ]
  },
  {
   "cell_type": "code",
   "execution_count": 59,
   "metadata": {
    "execution": {
     "iopub.execute_input": "2025-01-07T22:20:32.595727Z",
     "iopub.status.busy": "2025-01-07T22:20:32.595409Z",
     "iopub.status.idle": "2025-01-07T22:20:32.601066Z",
     "shell.execute_reply": "2025-01-07T22:20:32.600305Z",
     "shell.execute_reply.started": "2025-01-07T22:20:32.595703Z"
    },
    "trusted": true
   },
   "outputs": [],
   "source": [
    "model = MalwareDetector()"
   ]
  },
  {
   "cell_type": "markdown",
   "metadata": {},
   "source": [
    "### Train Hyperparameters"
   ]
  },
  {
   "cell_type": "code",
   "execution_count": 60,
   "metadata": {
    "execution": {
     "iopub.execute_input": "2025-01-07T22:20:36.088019Z",
     "iopub.status.busy": "2025-01-07T22:20:36.087691Z",
     "iopub.status.idle": "2025-01-07T22:20:36.092614Z",
     "shell.execute_reply": "2025-01-07T22:20:36.091813Z",
     "shell.execute_reply.started": "2025-01-07T22:20:36.087994Z"
    },
    "trusted": true
   },
   "outputs": [],
   "source": [
    "# Hyperparameters\n",
    "criterion = nn.BCELoss()  # Binary Cross Entropy Loss\n",
    "learning_rate = 0.001\n",
    "optimizer = optim.Adam(model.parameters(), lr=learning_rate)\n",
    "NUM_EPOCHS = 50"
   ]
  },
  {
   "cell_type": "markdown",
   "metadata": {},
   "source": [
    "## Train model"
   ]
  },
  {
   "cell_type": "code",
   "execution_count": 63,
   "metadata": {
    "execution": {
     "iopub.execute_input": "2025-01-07T22:20:39.747375Z",
     "iopub.status.busy": "2025-01-07T22:20:39.747082Z",
     "iopub.status.idle": "2025-01-07T22:20:39.754089Z",
     "shell.execute_reply": "2025-01-07T22:20:39.753190Z",
     "shell.execute_reply.started": "2025-01-07T22:20:39.747353Z"
    },
    "trusted": true
   },
   "outputs": [],
   "source": [
    "# Example training loop\n",
    "def train_model(model, criterion, optimizer, train_loader, num_epochs=20):\n",
    "    model.train()  # Set the model to training mode\n",
    "    \n",
    "    for epoch in range(num_epochs):\n",
    "        running_loss = 0.0\n",
    "    \n",
    "        for inputs, labels in train_loader:\n",
    "            # Move data to GPU if available\n",
    "            inputs, labels = inputs.to(device), labels.to(device)\n",
    "            \n",
    "            # Zero the parameter gradients\n",
    "            optimizer.zero_grad()\n",
    "\n",
    "            # Modifica le etichette per fare in modo che siano 0 o 1\n",
    "            labels = (labels == 1).float()  # Converti -1 in 0 e 1 rimane 1\n",
    "            \n",
    "            # Forward pass\n",
    "            outputs = model(inputs)\n",
    "            loss = criterion(outputs, labels)\n",
    "            \n",
    "            # Backward pass and optimize\n",
    "            loss.backward()\n",
    "            optimizer.step()\n",
    "            \n",
    "            running_loss += loss.item()\n",
    "        \n",
    "        # Print loss every epoch\n",
    "        print(f\"Epoch [{epoch+1}/{num_epochs}], Loss: {running_loss/len(train_loader):.4f}\")\n",
    "\n",
    "device = torch.device('cuda' if torch.cuda.is_available() else 'cpu')\n",
    "model = model.to(device)"
   ]
  },
  {
   "cell_type": "code",
   "execution_count": 64,
   "metadata": {
    "execution": {
     "iopub.execute_input": "2025-01-07T22:20:50.366861Z",
     "iopub.status.busy": "2025-01-07T22:20:50.366353Z",
     "iopub.status.idle": "2025-01-07T22:20:50.417765Z",
     "shell.execute_reply": "2025-01-07T22:20:50.416446Z",
     "shell.execute_reply.started": "2025-01-07T22:20:50.366769Z"
    },
    "trusted": true
   },
   "outputs": [
    {
     "name": "stdout",
     "output_type": "stream",
     "text": [
      "Epoch [1/50], Loss: 0.3707\n",
      "Epoch [2/50], Loss: 0.1827\n",
      "Epoch [3/50], Loss: 0.1674\n",
      "Epoch [4/50], Loss: 0.1584\n",
      "Epoch [5/50], Loss: 0.1457\n",
      "Epoch [6/50], Loss: 0.1376\n",
      "Epoch [7/50], Loss: 0.1294\n",
      "Epoch [8/50], Loss: 0.1196\n",
      "Epoch [9/50], Loss: 0.1129\n",
      "Epoch [10/50], Loss: 0.1061\n",
      "Epoch [11/50], Loss: 0.1038\n",
      "Epoch [12/50], Loss: 0.0991\n",
      "Epoch [13/50], Loss: 0.0925\n",
      "Epoch [14/50], Loss: 0.0916\n",
      "Epoch [15/50], Loss: 0.0928\n",
      "Epoch [16/50], Loss: 0.0865\n",
      "Epoch [17/50], Loss: 0.0839\n",
      "Epoch [18/50], Loss: 0.0783\n",
      "Epoch [19/50], Loss: 0.0788\n",
      "Epoch [20/50], Loss: 0.0738\n",
      "Epoch [21/50], Loss: 0.0734\n",
      "Epoch [22/50], Loss: 0.0720\n",
      "Epoch [23/50], Loss: 0.0692\n",
      "Epoch [24/50], Loss: 0.0716\n",
      "Epoch [25/50], Loss: 0.0709\n",
      "Epoch [26/50], Loss: 0.0665\n",
      "Epoch [27/50], Loss: 0.0651\n",
      "Epoch [28/50], Loss: 0.0608\n",
      "Epoch [29/50], Loss: 0.0628\n",
      "Epoch [30/50], Loss: 0.0616\n",
      "Epoch [31/50], Loss: 0.0620\n",
      "Epoch [32/50], Loss: 0.0575\n",
      "Epoch [33/50], Loss: 0.0553\n",
      "Epoch [34/50], Loss: 0.0572\n",
      "Epoch [35/50], Loss: 0.0585\n",
      "Epoch [36/50], Loss: 0.0570\n",
      "Epoch [37/50], Loss: 0.0547\n",
      "Epoch [38/50], Loss: 0.0544\n",
      "Epoch [39/50], Loss: 0.0540\n",
      "Epoch [40/50], Loss: 0.0531\n",
      "Epoch [41/50], Loss: 0.0545\n",
      "Epoch [42/50], Loss: 0.0496\n",
      "Epoch [43/50], Loss: 0.0505\n",
      "Epoch [44/50], Loss: 0.0610\n",
      "Epoch [45/50], Loss: 0.0508\n",
      "Epoch [46/50], Loss: 0.0527\n",
      "Epoch [47/50], Loss: 0.0469\n",
      "Epoch [48/50], Loss: 0.0474\n",
      "Epoch [49/50], Loss: 0.0475\n",
      "Epoch [50/50], Loss: 0.0475\n"
     ]
    }
   ],
   "source": [
    "train_model(model, criterion, optimizer, train_loader, num_epochs=NUM_EPOCHS)"
   ]
  },
  {
   "cell_type": "markdown",
   "metadata": {},
   "source": [
    "## Evaluate model"
   ]
  },
  {
   "cell_type": "code",
   "execution_count": null,
   "metadata": {},
   "outputs": [],
   "source": [
    "def evaluate_model(model, test_loader):\n",
    "    model.eval()  # Set the model to evaluation mode\n",
    "    correct = 0\n",
    "    total = 0\n",
    "    \n",
    "    with torch.no_grad():\n",
    "        for inputs, labels in test_loader:\n",
    "            inputs, labels = inputs.to(device), labels.to(device)\n",
    "            outputs = model(inputs)\n",
    "            predicted = (outputs > 0.5).float()  # Convert probabilities to binary labels\n",
    "            total += labels.size(0)\n",
    "            correct += (predicted == labels.unsqueeze(1)).sum().item()\n",
    "    \n",
    "    print(f'Accuracy: {100 * correct / total:.2f}%')\n",
    "\n",
    "# Assuming test_loader is your DataLoader for the test data\n",
    "evaluate_model(model, test_loader)\n"
   ]
  },
  {
   "cell_type": "markdown",
   "metadata": {},
   "source": [
    "# NOISE\n",
    "noise_factor: Controls how much noise to add. A small value like 0.01 adds subtle noise, while a larger value like 0.1 adds more significant perturbations."
   ]
  },
  {
   "cell_type": "code",
   "execution_count": null,
   "metadata": {},
   "outputs": [],
   "source": [
    "NOISE_FACTOR = 0.01\n",
    "\n",
    "def add_noise_to_weights(model, noise_factor):\n",
    "    \"\"\"Adds random Gaussian noise to the model's weights.\n",
    "    \n",
    "    Args:\n",
    "        model: PyTorch neural network model.\n",
    "        noise_factor: The magnitude of the noise to be added to the weights.\n",
    "    \"\"\"\n",
    "    with torch.no_grad():  # No need to track gradients\n",
    "        for param in model.parameters():\n",
    "            noise = torch.randn(param.size()) * noise_factor\n",
    "            param.add_(noise)  # Add noise to the current parameters\n",
    "\n",
    "    print(f\"Added noise with factor {noise_factor} to model weights.\")\n"
   ]
  },
  {
   "cell_type": "markdown",
   "metadata": {},
   "source": [
    "## evaluate model with noise"
   ]
  },
  {
   "cell_type": "code",
   "execution_count": null,
   "metadata": {},
   "outputs": [],
   "source": [
    "def test_with_noise(model, test_loader, noise_factor):\n",
    "    \"\"\"Test the model after adding noise to the weights.\"\"\"\n",
    "    # Save the original weights\n",
    "    original_state_dict = model.state_dict()\n",
    "\n",
    "    # Add noise to the model\n",
    "    add_noise_to_weights(model, noise_factor=noise_factor)\n",
    "\n",
    "    # Evaluate the model with noisy weights\n",
    "    print(\"Testing model with noisy weights...\")\n",
    "    evaluate_model(model, test_loader)\n",
    "\n",
    "    # Restore the original weights after testing\n",
    "    model.load_state_dict(original_state_dict)\n",
    "    print(\"Restored original model weights.\")\n"
   ]
  },
  {
   "cell_type": "code",
   "execution_count": null,
   "metadata": {},
   "outputs": [],
   "source": [
    "test_with_noise(model, test_loader, noise_factor=NOISE_FACTOR)"
   ]
  },
  {
   "cell_type": "markdown",
   "metadata": {},
   "source": [
    "### another possibility of evaluating"
   ]
  },
  {
   "cell_type": "code",
   "execution_count": null,
   "metadata": {},
   "outputs": [],
   "source": [
    "def evaluate_with_poisoned_tracking(model, test_loader, poisoned_indices, noise_factor=0.01):\n",
    "    \"\"\"Evaluate the model after adding noise and track the effect on poisoned vs. clean samples.\"\"\"\n",
    "    model.eval()\n",
    "    total = 0\n",
    "    correct_poisoned = 0\n",
    "    correct_clean = 0\n",
    "    poisoned_samples = 0\n",
    "    clean_samples = 0\n",
    "\n",
    "    # Add noise to the model\n",
    "    add_noise_to_weights(model, noise_factor=noise_factor)\n",
    "\n",
    "    with torch.no_grad():\n",
    "        for i, (inputs, labels) in enumerate(test_loader):\n",
    "            inputs, labels = inputs.to(device), labels.to(device)\n",
    "            outputs = model(inputs)\n",
    "            predicted = (outputs > 0.5).float()\n",
    "\n",
    "            # Track accuracy for poisoned vs. clean samples\n",
    "            for idx, prediction in enumerate(predicted):\n",
    "                total += 1\n",
    "                is_poisoned = i * len(predicted) + idx in poisoned_indices\n",
    "                \n",
    "                if is_poisoned:\n",
    "                    poisoned_samples += 1\n",
    "                    correct_poisoned += (prediction == labels[idx]).item()\n",
    "                else:\n",
    "                    clean_samples += 1\n",
    "                    correct_clean += (prediction == labels[idx]).item()\n",
    "\n",
    "    # Calculate accuracy for poisoned and clean samples\n",
    "    accuracy_poisoned = 100 * correct_poisoned / poisoned_samples if poisoned_samples > 0 else 0\n",
    "    accuracy_clean = 100 * correct_clean / clean_samples if clean_samples > 0 else 0\n",
    "\n",
    "    print(f\"Accuracy on poisoned samples: {accuracy_poisoned:.2f}%\")\n",
    "    print(f\"Accuracy on clean samples: {accuracy_clean:.2f}%\")\n",
    "\n",
    "    # Restore the original weights\n",
    "    model.load_state_dict(original_state_dict)\n"
   ]
  }
 ],
 "metadata": {
  "kaggle": {
   "accelerator": "nvidiaTeslaT4",
   "dataSources": [
    {
     "datasetId": 6441543,
     "sourceId": 10396338,
     "sourceType": "datasetVersion"
    }
   ],
   "dockerImageVersionId": 30823,
   "isGpuEnabled": true,
   "isInternetEnabled": true,
   "language": "python",
   "sourceType": "notebook"
  },
  "kernelspec": {
   "display_name": "base",
   "language": "python",
   "name": "python3"
  },
  "language_info": {
   "codemirror_mode": {
    "name": "ipython",
    "version": 3
   },
   "file_extension": ".py",
   "mimetype": "text/x-python",
   "name": "python",
   "nbconvert_exporter": "python",
   "pygments_lexer": "ipython3",
   "version": "3.11.5"
  }
 },
 "nbformat": 4,
 "nbformat_minor": 4
}
