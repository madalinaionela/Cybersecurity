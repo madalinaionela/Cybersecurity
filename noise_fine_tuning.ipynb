{
 "cells": [
  {
   "cell_type": "code",
   "execution_count": 37,
   "id": "ffc44465",
   "metadata": {},
   "outputs": [],
   "source": [
    "import torch\n",
    "import torch.nn as nn\n",
    "import torch.optim as optim\n",
    "from torch.utils.data import TensorDataset, DataLoader\n",
    "from sklearn.model_selection import train_test_split\n",
    "from sklearn.metrics import accuracy_score\n",
    "import numpy as np\n",
    "import pandas as pd\n",
    "from ucimlrepo import fetch_ucirepo\n",
    "import matplotlib.pyplot as plt\n",
    "import seaborn as sns\n"
   ]
  },
  {
   "cell_type": "markdown",
   "id": "2b9b657d",
   "metadata": {},
   "source": [
    "## Load and preprocess dataset"
   ]
  },
  {
   "cell_type": "code",
   "execution_count": 38,
   "id": "9700c822",
   "metadata": {},
   "outputs": [],
   "source": [
    "# Fetch dataset\n",
    "phishing_websites = fetch_ucirepo(id=327)\n",
    "X = phishing_websites.data.features\n",
    "y = phishing_websites.data.targets\n",
    "\n",
    "# Split dataset\n",
    "X_train, X_test, y_train, y_test = train_test_split(X, y, test_size=0.2, random_state=42)\n",
    "\n",
    "# Convert to tensors\n",
    "X_train_tensor = torch.tensor(X_train.values.astype(float), dtype=torch.float32)\n",
    "y_train_tensor = torch.tensor(y_train.values.astype(float), dtype=torch.float32)\n",
    "X_test_tensor = torch.tensor(X_test.values.astype(float), dtype=torch.float32)\n",
    "y_test_tensor = torch.tensor(y_test.values.astype(float), dtype=torch.float32)\n",
    "\n",
    "# Create datasets and dataloaders\n",
    "train_dataset = TensorDataset(X_train_tensor, y_train_tensor)\n",
    "test_dataset = TensorDataset(X_test_tensor, y_test_tensor)\n",
    "train_loader = DataLoader(train_dataset, batch_size=64, shuffle=True)\n",
    "test_loader = DataLoader(test_dataset, batch_size=64, shuffle=False)"
   ]
  },
  {
   "cell_type": "markdown",
   "id": "6343d872",
   "metadata": {},
   "source": [
    "## Define the neural network model"
   ]
  },
  {
   "cell_type": "code",
   "execution_count": 39,
   "id": "deb74d2d",
   "metadata": {},
   "outputs": [],
   "source": [
    "class MalwareDetector(nn.Module):\n",
    "    def __init__(self):\n",
    "        super(MalwareDetector, self).__init__()\n",
    "        self.fc1 = nn.Linear(30, 64)\n",
    "        self.relu1 = nn.ReLU()\n",
    "        self.fc2 = nn.Linear(64, 32)\n",
    "        self.relu2 = nn.ReLU()\n",
    "        self.fc3 = nn.Linear(32, 16)\n",
    "        self.relu3 = nn.ReLU()\n",
    "        self.fc4 = nn.Linear(16, 1)\n",
    "        self.sigmoid = nn.Sigmoid()\n",
    "\n",
    "    def forward(self, x):\n",
    "        x = self.relu1(self.fc1(x))\n",
    "        x = self.relu2(self.fc2(x))\n",
    "        x = self.relu3(self.fc3(x))\n",
    "        x = self.fc4(x)\n",
    "        x = self.sigmoid(x)\n",
    "        return x\n",
    "\n",
    "model = MalwareDetector()"
   ]
  },
  {
   "cell_type": "markdown",
   "id": "9ded110d",
   "metadata": {},
   "source": [
    "## Define training and evaluation functions"
   ]
  },
  {
   "cell_type": "code",
   "execution_count": 40,
   "id": "6d17e349",
   "metadata": {},
   "outputs": [],
   "source": [
    "def train_model(model, criterion, optimizer, train_loader, num_epochs=20):\n",
    "    model.train()\n",
    "    for epoch in range(num_epochs):\n",
    "        running_loss = 0.0\n",
    "        for inputs, labels in train_loader:\n",
    "            inputs, labels = inputs.to(device), labels.to(device)\n",
    "            optimizer.zero_grad()\n",
    "            labels = (labels == 1).float()\n",
    "            outputs = model(inputs)\n",
    "            loss = criterion(outputs, labels)\n",
    "            loss.backward()\n",
    "            optimizer.step()\n",
    "            running_loss += loss.item()\n",
    "        print(f\"Epoch [{epoch+1}/{num_epochs}], Loss: {running_loss/len(train_loader):.4f}\")\n",
    "\n",
    "def evaluate_model(model, test_loader):\n",
    "    model.eval()\n",
    "    y_true = []\n",
    "    y_pred = []\n",
    "    with torch.no_grad():\n",
    "        for inputs, labels in test_loader:\n",
    "            inputs, labels = inputs.to(device), labels.to(device)\n",
    "            outputs = model(inputs)\n",
    "            predicted = (outputs > 0.5).float()\n",
    "            y_true.extend(labels.cpu().numpy())\n",
    "            y_pred.extend(predicted.cpu().numpy())\n",
    "    accuracy = accuracy_score(y_true, y_pred) * 100\n",
    "    print(f'Accuracy: {accuracy:.2f}%')"
   ]
  },
  {
   "cell_type": "markdown",
   "id": "52f20e91",
   "metadata": {},
   "source": [
    "## Add noise to model weights"
   ]
  },
  {
   "cell_type": "code",
   "execution_count": 41,
   "id": "d5915520",
   "metadata": {},
   "outputs": [],
   "source": [
    "def add_noise_to_weights(model, noise_factor):\n",
    "    with torch.no_grad():\n",
    "        for param in model.parameters():\n",
    "            noise = torch.randn(param.size()) * noise_factor\n",
    "            param.add_(noise)\n",
    "    print(f\"Added noise with factor {noise_factor} to model weights.\")"
   ]
  },
  {
   "cell_type": "markdown",
   "id": "0f4acdb9",
   "metadata": {},
   "source": [
    "## Tune noise hyperparameters"
   ]
  },
  {
   "cell_type": "code",
   "execution_count": 42,
   "id": "21f8876f",
   "metadata": {},
   "outputs": [],
   "source": [
    "def tune_noise(model, test_loader, noise_factors):\n",
    "    best_noise_factor = None\n",
    "    best_accuracy = 0\n",
    "    for noise_factor in noise_factors:\n",
    "        original_state_dict = model.state_dict()\n",
    "        add_noise_to_weights(model, noise_factor)\n",
    "        y_true = []\n",
    "        y_pred = []\n",
    "        with torch.no_grad():\n",
    "            for inputs, labels in test_loader:\n",
    "                inputs, labels = inputs.to(device), labels.to(device)\n",
    "                outputs = model(inputs)\n",
    "                predicted = (outputs > 0.5).float()\n",
    "                y_true.extend(labels.cpu().numpy())\n",
    "                y_pred.extend(predicted.cpu().numpy())\n",
    "        accuracy = accuracy_score(y_true, y_pred) * 100\n",
    "        print(f\"Noise Factor: {noise_factor}, Accuracy: {accuracy:.2f}%\")\n",
    "        if accuracy > best_accuracy:\n",
    "            best_noise_factor = noise_factor\n",
    "            best_accuracy = accuracy\n",
    "        model.load_state_dict(original_state_dict)\n",
    "    print(f\"Best Noise Factor: {best_noise_factor}\")\n",
    "    print(f\"Best Accuracy: {best_accuracy:.2f}%\")\n",
    "    return best_noise_factor"
   ]
  },
  {
   "cell_type": "markdown",
   "id": "393797d1",
   "metadata": {},
   "source": [
    "## Train and evaluate the model"
   ]
  },
  {
   "cell_type": "code",
   "execution_count": null,
   "id": "92ceaa60",
   "metadata": {},
   "outputs": [
    {
     "name": "stdout",
     "output_type": "stream",
     "text": [
      "Epoch [1/50], Loss: 0.3522\n",
      "Epoch [2/50], Loss: 0.1809\n",
      "Epoch [3/50], Loss: 0.1648\n",
      "Epoch [4/50], Loss: 0.1518\n",
      "Epoch [5/50], Loss: 0.1391\n",
      "Epoch [6/50], Loss: 0.1316\n",
      "Epoch [7/50], Loss: 0.1229\n",
      "Epoch [8/50], Loss: 0.1159\n",
      "Epoch [9/50], Loss: 0.1088\n",
      "Epoch [10/50], Loss: 0.1013\n",
      "Epoch [11/50], Loss: 0.0990\n",
      "Epoch [12/50], Loss: 0.0943\n",
      "Epoch [13/50], Loss: 0.0915\n",
      "Epoch [14/50], Loss: 0.0860\n",
      "Epoch [15/50], Loss: 0.0827\n",
      "Epoch [16/50], Loss: 0.0793\n",
      "Epoch [17/50], Loss: 0.0746\n",
      "Epoch [18/50], Loss: 0.0752\n",
      "Epoch [19/50], Loss: 0.0744\n",
      "Epoch [20/50], Loss: 0.0693\n",
      "Epoch [21/50], Loss: 0.0704\n",
      "Epoch [22/50], Loss: 0.0676\n",
      "Epoch [23/50], Loss: 0.0662\n",
      "Epoch [24/50], Loss: 0.0631\n",
      "Epoch [25/50], Loss: 0.0608\n",
      "Epoch [26/50], Loss: 0.0606\n",
      "Epoch [27/50], Loss: 0.0634\n",
      "Epoch [28/50], Loss: 0.0669\n",
      "Epoch [29/50], Loss: 0.0611\n",
      "Epoch [30/50], Loss: 0.0563\n",
      "Epoch [31/50], Loss: 0.0542\n",
      "Epoch [32/50], Loss: 0.0543\n",
      "Epoch [33/50], Loss: 0.0548\n",
      "Epoch [34/50], Loss: 0.0551\n",
      "Epoch [35/50], Loss: 0.0517\n",
      "Epoch [36/50], Loss: 0.0493\n",
      "Epoch [37/50], Loss: 0.0496\n",
      "Epoch [38/50], Loss: 0.0533\n",
      "Epoch [39/50], Loss: 0.0489\n",
      "Epoch [40/50], Loss: 0.0488\n",
      "Epoch [41/50], Loss: 0.0465\n",
      "Epoch [42/50], Loss: 0.0461\n",
      "Epoch [43/50], Loss: 0.0483\n",
      "Epoch [44/50], Loss: 0.0496\n",
      "Epoch [45/50], Loss: 0.0487\n",
      "Epoch [46/50], Loss: 0.0450\n",
      "Epoch [47/50], Loss: 0.0444\n",
      "Epoch [48/50], Loss: 0.0446\n",
      "Epoch [49/50], Loss: 0.0452\n",
      "Epoch [50/50], Loss: 0.0438\n",
      "Accuracy: 55.18%\n"
     ]
    }
   ],
   "source": [
    "device = torch.device('cuda' if torch.cuda.is_available() else 'cpu')\n",
    "model = model.to(device)\n",
    "criterion = nn.BCELoss()\n",
    "optimizer = optim.Adam(model.parameters(), lr=0.001)\n",
    "NUM_EPOCHS = 50\n",
    "\n",
    "# Train the model\n",
    "train_model(model, criterion, optimizer, train_loader, num_epochs=NUM_EPOCHS)\n",
    "\n",
    "# Evaluate the model\n",
    "evaluate_model(model, test_loader)"
   ]
  },
  {
   "cell_type": "markdown",
   "id": "83a633e9",
   "metadata": {},
   "source": [
    "## Find the best noise factor"
   ]
  },
  {
   "cell_type": "code",
   "execution_count": 44,
   "id": "afb68f6f",
   "metadata": {},
   "outputs": [
    {
     "name": "stdout",
     "output_type": "stream",
     "text": [
      "Added noise with factor 0.001 to model weights.\n",
      "Noise Factor: 0.001, Accuracy: 55.13%\n",
      "Added noise with factor 0.01 to model weights.\n",
      "Noise Factor: 0.01, Accuracy: 54.64%\n",
      "Added noise with factor 0.1 to model weights.\n",
      "Noise Factor: 0.1, Accuracy: 43.01%\n",
      "Added noise with factor 0.5 to model weights.\n",
      "Noise Factor: 0.5, Accuracy: 12.08%\n",
      "Added noise with factor 1.0 to model weights.\n",
      "Noise Factor: 1.0, Accuracy: 1.18%\n",
      "Best Noise Factor: 0.001\n",
      "Best Accuracy: 55.13%\n",
      "Best Noise Factor:  0.001\n"
     ]
    }
   ],
   "source": [
    "noise_factors = [0.001, 0.01, 0.1, 0.5, 1.0]\n",
    "best_noise_factor = tune_noise(model, test_loader, noise_factors)\n",
    "print('Best Noise Factor: ', best_noise_factor)"
   ]
  },
  {
   "cell_type": "markdown",
   "id": "95c467ff",
   "metadata": {},
   "source": [
    "## Evaluate model with the best noise factor"
   ]
  },
  {
   "cell_type": "code",
   "execution_count": 45,
   "id": "6777a220",
   "metadata": {},
   "outputs": [
    {
     "name": "stdout",
     "output_type": "stream",
     "text": [
      "Added noise with factor 0.001 to model weights.\n",
      "Accuracy: 1.18%\n",
      "Restored original model weights.\n"
     ]
    }
   ],
   "source": [
    "def test_with_best_noise(model, test_loader, best_noise_factor):\n",
    "    original_state_dict = model.state_dict()\n",
    "    add_noise_to_weights(model, best_noise_factor)\n",
    "    evaluate_model(model, test_loader)\n",
    "    model.load_state_dict(original_state_dict)\n",
    "    print(\"Restored original model weights.\")\n",
    "\n",
    "test_with_best_noise(model, test_loader, best_noise_factor)"
   ]
  },
  {
   "cell_type": "markdown",
   "id": "72108274",
   "metadata": {},
   "source": [
    "## Add different types of noise to model weights"
   ]
  },
  {
   "cell_type": "code",
   "execution_count": 46,
   "id": "047727dc",
   "metadata": {},
   "outputs": [],
   "source": [
    "def add_salt_and_pepper_noise(model, noise_factor):\n",
    "    with torch.no_grad():\n",
    "        for param in model.parameters():\n",
    "            mask = torch.rand(param.size()) < noise_factor\n",
    "            param[mask] = torch.rand(mask.sum().item())\n",
    "    print(f\"Added salt and pepper noise with factor {noise_factor} to model weights.\")\n",
    "\n",
    "def add_gaussian_noise(model, noise_factor):\n",
    "    with torch.no_grad():\n",
    "        for param in model.parameters():\n",
    "            noise = torch.randn(param.size()) * noise_factor\n",
    "            param.add_(noise)\n",
    "    print(f\"Added Gaussian noise with factor {noise_factor} to model weights.\")"
   ]
  },
  {
   "cell_type": "markdown",
   "id": "1b3fe60a",
   "metadata": {},
   "source": [
    "## Tune different noise hyperparameters"
   ]
  },
  {
   "cell_type": "code",
   "execution_count": 47,
   "id": "61f46ae4",
   "metadata": {},
   "outputs": [],
   "source": [
    "def tune_different_noises(model, test_loader, noise_factors, noise_type):\n",
    "    best_noise_factor = None\n",
    "    best_accuracy = 0\n",
    "    for noise_factor in noise_factors:\n",
    "        original_state_dict = model.state_dict()\n",
    "        if noise_type == 'salt_and_pepper':\n",
    "            add_salt_and_pepper_noise(model, noise_factor)\n",
    "        elif noise_type == 'gaussian':\n",
    "            add_gaussian_noise(model, noise_factor)\n",
    "        else:\n",
    "            add_noise_to_weights(model, noise_factor)\n",
    "        y_true = []\n",
    "        y_pred = []\n",
    "        with torch.no_grad():\n",
    "            for inputs, labels in test_loader:\n",
    "                inputs, labels = inputs.to(device), labels.to(device)\n",
    "                outputs = model(inputs)\n",
    "                predicted = (outputs > 0.5).float()\n",
    "                y_true.extend(labels.cpu().numpy())\n",
    "                y_pred.extend(predicted.cpu().numpy())\n",
    "        accuracy = accuracy_score(y_true, y_pred) * 100\n",
    "        print(f\"Noise Type: {noise_type}, Noise Factor: {noise_factor}, Accuracy: {accuracy:.2f}%\")\n",
    "        if accuracy > best_accuracy:\n",
    "            best_noise_factor = noise_factor\n",
    "            best_accuracy = accuracy\n",
    "        model.load_state_dict(original_state_dict)\n",
    "    print(f\"Best Noise Type: {noise_type}, Best Noise Factor: {best_noise_factor}\")\n",
    "    print(f\"Best Accuracy: {best_accuracy:.2f}%\")\n",
    "    return best_noise_factor"
   ]
  },
  {
   "cell_type": "markdown",
   "id": "2c57becc",
   "metadata": {},
   "source": [
    "## Find the best noise factor for different noise types"
   ]
  },
  {
   "cell_type": "code",
   "execution_count": 48,
   "id": "472e8cf6",
   "metadata": {},
   "outputs": [
    {
     "name": "stdout",
     "output_type": "stream",
     "text": [
      "Added salt and pepper noise with factor 0.001 to model weights.\n",
      "Noise Type: salt_and_pepper, Noise Factor: 0.001, Accuracy: 1.22%\n",
      "Added salt and pepper noise with factor 0.01 to model weights.\n",
      "Noise Type: salt_and_pepper, Noise Factor: 0.01, Accuracy: 1.31%\n",
      "Added salt and pepper noise with factor 0.1 to model weights.\n",
      "Noise Type: salt_and_pepper, Noise Factor: 0.1, Accuracy: 0.27%\n",
      "Added salt and pepper noise with factor 0.5 to model weights.\n",
      "Noise Type: salt_and_pepper, Noise Factor: 0.5, Accuracy: 0.00%\n",
      "Added salt and pepper noise with factor 1.0 to model weights.\n",
      "Noise Type: salt_and_pepper, Noise Factor: 1.0, Accuracy: 56.76%\n",
      "Best Noise Type: salt_and_pepper, Best Noise Factor: 1.0\n",
      "Best Accuracy: 56.76%\n",
      "Added Gaussian noise with factor 0.001 to model weights.\n",
      "Noise Type: gaussian, Noise Factor: 0.001, Accuracy: 56.76%\n",
      "Added Gaussian noise with factor 0.01 to model weights.\n",
      "Noise Type: gaussian, Noise Factor: 0.01, Accuracy: 56.76%\n",
      "Added Gaussian noise with factor 0.1 to model weights.\n",
      "Noise Type: gaussian, Noise Factor: 0.1, Accuracy: 56.76%\n",
      "Added Gaussian noise with factor 0.5 to model weights.\n",
      "Noise Type: gaussian, Noise Factor: 0.5, Accuracy: 56.76%\n",
      "Added Gaussian noise with factor 1.0 to model weights.\n",
      "Noise Type: gaussian, Noise Factor: 1.0, Accuracy: 56.76%\n",
      "Best Noise Type: gaussian, Best Noise Factor: 0.001\n",
      "Best Accuracy: 56.76%\n",
      "Added noise with factor 0.001 to model weights.\n",
      "Noise Type: default, Noise Factor: 0.001, Accuracy: 56.76%\n",
      "Added noise with factor 0.01 to model weights.\n",
      "Noise Type: default, Noise Factor: 0.01, Accuracy: 56.76%\n",
      "Added noise with factor 0.1 to model weights.\n",
      "Noise Type: default, Noise Factor: 0.1, Accuracy: 56.76%\n",
      "Added noise with factor 0.5 to model weights.\n",
      "Noise Type: default, Noise Factor: 0.5, Accuracy: 56.76%\n",
      "Added noise with factor 1.0 to model weights.\n",
      "Noise Type: default, Noise Factor: 1.0, Accuracy: 0.00%\n",
      "Best Noise Type: default, Best Noise Factor: 0.001\n",
      "Best Accuracy: 56.76%\n",
      "Best Noise Factors:  {'salt_and_pepper': 1.0, 'gaussian': 0.001, 'default': 0.001}\n"
     ]
    }
   ],
   "source": [
    "noise_factors = [0.001, 0.01, 0.1, 0.5, 1.0]\n",
    "noise_types = ['salt_and_pepper', 'gaussian', 'default']\n",
    "best_noise_factors = {}\n",
    "for noise_type in noise_types:\n",
    "    best_noise_factor = tune_different_noises(model, test_loader, noise_factors, noise_type)\n",
    "    best_noise_factors[noise_type] = best_noise_factor\n",
    "print('Best Noise Factors: ', best_noise_factors)"
   ]
  },
  {
   "cell_type": "markdown",
   "id": "ac0ab418",
   "metadata": {},
   "source": [
    "## Evaluate model with the best noise factors"
   ]
  },
  {
   "cell_type": "code",
   "execution_count": 49,
   "id": "4ab66ad5",
   "metadata": {},
   "outputs": [
    {
     "name": "stdout",
     "output_type": "stream",
     "text": [
      "Testing with best noise type: salt_and_pepper, factor: 1.0\n",
      "Added salt and pepper noise with factor 1.0 to model weights.\n",
      "Accuracy: 56.76%\n",
      "Restored original model weights.\n",
      "Testing with best noise type: gaussian, factor: 0.001\n",
      "Added Gaussian noise with factor 0.001 to model weights.\n",
      "Accuracy: 56.76%\n",
      "Restored original model weights.\n",
      "Testing with best noise type: default, factor: 0.001\n",
      "Added noise with factor 0.001 to model weights.\n",
      "Accuracy: 56.76%\n",
      "Restored original model weights.\n"
     ]
    }
   ],
   "source": [
    "def test_with_best_noises(model, test_loader, best_noise_factors):\n",
    "    for noise_type, noise_factor in best_noise_factors.items():\n",
    "        print(f\"Testing with best noise type: {noise_type}, factor: {noise_factor}\")\n",
    "        original_state_dict = model.state_dict()\n",
    "        if noise_type == 'salt_and_pepper':\n",
    "            add_salt_and_pepper_noise(model, noise_factor)\n",
    "        elif noise_type == 'gaussian':\n",
    "            add_gaussian_noise(model, noise_factor)\n",
    "        else:\n",
    "            add_noise_to_weights(model, noise_factor)\n",
    "        evaluate_model(model, test_loader)\n",
    "        model.load_state_dict(original_state_dict)\n",
    "        print(\"Restored original model weights.\")\n",
    "\n",
    "test_with_best_noises(model, test_loader, best_noise_factors)"
   ]
  },
  {
   "cell_type": "markdown",
   "id": "81e97371",
   "metadata": {},
   "source": [
    "## Evaluate model with both types of noise"
   ]
  },
  {
   "cell_type": "code",
   "execution_count": 50,
   "id": "34d71027",
   "metadata": {},
   "outputs": [
    {
     "name": "stdout",
     "output_type": "stream",
     "text": [
      "Testing with both noise types: salt_and_pepper and gaussian\n",
      "Added salt and pepper noise with factor 1.0 to model weights.\n",
      "Added Gaussian noise with factor 0.001 to model weights.\n",
      "Accuracy: 56.76%\n",
      "Restored original model weights.\n"
     ]
    }
   ],
   "source": [
    "def test_with_both_noises(model, test_loader, best_noise_factors):\n",
    "    original_state_dict = model.state_dict()\n",
    "    print(\"Testing with both noise types: salt_and_pepper and gaussian\")\n",
    "    add_salt_and_pepper_noise(model, best_noise_factors['salt_and_pepper'])\n",
    "    add_gaussian_noise(model, best_noise_factors['gaussian'])\n",
    "    evaluate_model(model, test_loader)\n",
    "    model.load_state_dict(original_state_dict)\n",
    "    print(\"Restored original model weights.\")\n",
    "\n",
    "test_with_both_noises(model, test_loader, best_noise_factors)"
   ]
  },
  {
   "cell_type": "code",
   "execution_count": null,
   "id": "eefe4271",
   "metadata": {},
   "outputs": [],
   "source": []
  }
 ],
 "metadata": {
  "kernelspec": {
   "display_name": "base",
   "language": "python",
   "name": "python3"
  },
  "language_info": {
   "codemirror_mode": {
    "name": "ipython",
    "version": 3
   },
   "file_extension": ".py",
   "mimetype": "text/x-python",
   "name": "python",
   "nbconvert_exporter": "python",
   "pygments_lexer": "ipython3",
   "version": "3.8.8"
  }
 },
 "nbformat": 4,
 "nbformat_minor": 5
}
