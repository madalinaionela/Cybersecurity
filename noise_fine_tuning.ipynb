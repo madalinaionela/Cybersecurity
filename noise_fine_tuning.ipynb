{
 "cells": [
  {
   "cell_type": "code",
   "execution_count": 10,
   "id": "ffc44465",
   "metadata": {},
   "outputs": [],
   "source": [
    "import torch\n",
    "import torch.nn as nn\n",
    "import torch.optim as optim\n",
    "from torch.utils.data import TensorDataset, DataLoader\n",
    "from sklearn.model_selection import train_test_split\n",
    "import numpy as np\n",
    "import pandas as pd\n",
    "from ucimlrepo import fetch_ucirepo\n",
    "import matplotlib.pyplot as plt\n",
    "import seaborn as sns\n"
   ]
  },
  {
   "cell_type": "markdown",
   "id": "2b9b657d",
   "metadata": {},
   "source": [
    "## Load and preprocess dataset"
   ]
  },
  {
   "cell_type": "code",
   "execution_count": 11,
   "id": "9700c822",
   "metadata": {},
   "outputs": [],
   "source": [
    "# Fetch dataset\n",
    "phishing_websites = fetch_ucirepo(id=327)\n",
    "X = phishing_websites.data.features\n",
    "y = phishing_websites.data.targets\n",
    "\n",
    "# Split dataset\n",
    "X_train, X_test, y_train, y_test = train_test_split(X, y, test_size=0.2, random_state=42)\n",
    "\n",
    "# Convert to tensors\n",
    "X_train_tensor = torch.tensor(X_train.values.astype(float), dtype=torch.float32)\n",
    "y_train_tensor = torch.tensor(y_train.values.astype(float), dtype=torch.float32)\n",
    "X_test_tensor = torch.tensor(X_test.values.astype(float), dtype=torch.float32)\n",
    "y_test_tensor = torch.tensor(y_test.values.astype(float), dtype=torch.float32)\n",
    "\n",
    "# Create datasets and dataloaders\n",
    "train_dataset = TensorDataset(X_train_tensor, y_train_tensor)\n",
    "test_dataset = TensorDataset(X_test_tensor, y_test_tensor)\n",
    "train_loader = DataLoader(train_dataset, batch_size=64, shuffle=True)\n",
    "test_loader = DataLoader(test_dataset, batch_size=64, shuffle=False)"
   ]
  },
  {
   "cell_type": "markdown",
   "id": "6343d872",
   "metadata": {},
   "source": [
    "## Define the neural network model"
   ]
  },
  {
   "cell_type": "code",
   "execution_count": 12,
   "id": "deb74d2d",
   "metadata": {},
   "outputs": [],
   "source": [
    "class MalwareDetector(nn.Module):\n",
    "    def __init__(self):\n",
    "        super(MalwareDetector, self).__init__()\n",
    "        self.fc1 = nn.Linear(30, 64)\n",
    "        self.relu1 = nn.ReLU()\n",
    "        self.fc2 = nn.Linear(64, 32)\n",
    "        self.relu2 = nn.ReLU()\n",
    "        self.fc3 = nn.Linear(32, 16)\n",
    "        self.relu3 = nn.ReLU()\n",
    "        self.fc4 = nn.Linear(16, 1)\n",
    "        self.sigmoid = nn.Sigmoid()\n",
    "\n",
    "    def forward(self, x):\n",
    "        x = self.relu1(self.fc1(x))\n",
    "        x = self.relu2(self.fc2(x))\n",
    "        x = self.relu3(self.fc3(x))\n",
    "        x = self.fc4(x)\n",
    "        x = self.sigmoid(x)\n",
    "        return x\n",
    "\n",
    "model = MalwareDetector()"
   ]
  },
  {
   "cell_type": "markdown",
   "id": "9ded110d",
   "metadata": {},
   "source": [
    "## Define training and evaluation functions"
   ]
  },
  {
   "cell_type": "code",
   "execution_count": 13,
   "id": "6d17e349",
   "metadata": {},
   "outputs": [],
   "source": [
    "def train_model(model, criterion, optimizer, train_loader, num_epochs=20):\n",
    "    model.train()\n",
    "    for epoch in range(num_epochs):\n",
    "        running_loss = 0.0\n",
    "        for inputs, labels in train_loader:\n",
    "            inputs, labels = inputs.to(device), labels.to(device)\n",
    "            optimizer.zero_grad()\n",
    "            labels = (labels == 1).float()\n",
    "            outputs = model(inputs)\n",
    "            loss = criterion(outputs, labels)\n",
    "            loss.backward()\n",
    "            optimizer.step()\n",
    "            running_loss += loss.item()\n",
    "        print(f\"Epoch [{epoch+1}/{num_epochs}], Loss: {running_loss/len(train_loader):.4f}\")\n",
    "\n",
    "def evaluate_model(model, test_loader):\n",
    "    model.eval()\n",
    "    correct = 0\n",
    "    total = 0\n",
    "    with torch.no_grad():\n",
    "        for inputs, labels in test_loader:\n",
    "            inputs, labels = inputs.to(device), labels.to(device)\n",
    "            outputs = model(inputs)\n",
    "            predicted = (outputs > 0.5).float()\n",
    "            total += labels.size(0)\n",
    "            correct += (predicted == labels.unsqueeze(1)).sum().item()\n",
    "    accuracy = 100 * correct / total\n",
    "    print(f'Accuracy: {accuracy:.2f}%')"
   ]
  },
  {
   "cell_type": "markdown",
   "id": "52f20e91",
   "metadata": {},
   "source": [
    "## Add noise to model weights"
   ]
  },
  {
   "cell_type": "code",
   "execution_count": 14,
   "id": "d5915520",
   "metadata": {},
   "outputs": [],
   "source": [
    "def add_noise_to_weights(model, noise_factor):\n",
    "    with torch.no_grad():\n",
    "        for param in model.parameters():\n",
    "            noise = torch.randn(param.size()) * noise_factor\n",
    "            param.add_(noise)\n",
    "    print(f\"Added noise with factor {noise_factor} to model weights.\")"
   ]
  },
  {
   "cell_type": "markdown",
   "id": "0f4acdb9",
   "metadata": {},
   "source": [
    "## Tune noise hyperparameters"
   ]
  },
  {
   "cell_type": "code",
   "execution_count": 15,
   "id": "21f8876f",
   "metadata": {},
   "outputs": [],
   "source": [
    "def tune_noise(model, test_loader, noise_factors):\n",
    "    best_noise_factor = None\n",
    "    best_accuracy = 0\n",
    "    for noise_factor in noise_factors:\n",
    "        original_state_dict = model.state_dict()\n",
    "        add_noise_to_weights(model, noise_factor)\n",
    "        correct = 0\n",
    "        total = 0\n",
    "        with torch.no_grad():\n",
    "            for inputs, labels in test_loader:\n",
    "                inputs, labels = inputs.to(device), labels.to(device)\n",
    "                outputs = model(inputs)\n",
    "                predicted = (outputs > 0.5).float()\n",
    "                total += labels.size(0)\n",
    "                correct += (predicted == labels.unsqueeze(1)).sum().item()\n",
    "        accuracy = 100 * correct / total\n",
    "        print(f\"Noise Factor: {noise_factor}, Accuracy: {accuracy:.2f}%\")\n",
    "        if accuracy > best_accuracy:\n",
    "            best_noise_factor = noise_factor\n",
    "            best_accuracy = accuracy\n",
    "        model.load_state_dict(original_state_dict)\n",
    "    print(f\"Best Noise Factor: {best_noise_factor}\")\n",
    "    print(f\"Best Accuracy: {best_accuracy:.2f}%\")\n",
    "    return best_noise_factor"
   ]
  },
  {
   "cell_type": "markdown",
   "id": "393797d1",
   "metadata": {},
   "source": [
    "## Train and evaluate the model"
   ]
  },
  {
   "cell_type": "code",
   "execution_count": null,
   "id": "92ceaa60",
   "metadata": {},
   "outputs": [
    {
     "name": "stdout",
     "output_type": "stream",
     "text": [
      "Epoch [1/50], Loss: 0.3803\n",
      "Epoch [2/50], Loss: 0.1816\n",
      "Epoch [3/50], Loss: 0.1658\n",
      "Epoch [4/50], Loss: 0.1526\n",
      "Epoch [5/50], Loss: 0.1411\n",
      "Epoch [6/50], Loss: 0.1331\n",
      "Epoch [7/50], Loss: 0.1234\n",
      "Epoch [8/50], Loss: 0.1135\n",
      "Epoch [9/50], Loss: 0.1067\n",
      "Epoch [10/50], Loss: 0.1031\n",
      "Epoch [11/50], Loss: 0.0949\n",
      "Epoch [12/50], Loss: 0.0923\n",
      "Epoch [13/50], Loss: 0.0851\n",
      "Epoch [14/50], Loss: 0.0863\n",
      "Epoch [15/50], Loss: 0.0801\n",
      "Epoch [16/50], Loss: 0.0773\n",
      "Epoch [17/50], Loss: 0.0750\n",
      "Epoch [18/50], Loss: 0.0765\n",
      "Epoch [19/50], Loss: 0.0705\n",
      "Epoch [20/50], Loss: 0.0706\n",
      "Epoch [21/50], Loss: 0.0707\n",
      "Epoch [22/50], Loss: 0.0692\n",
      "Epoch [23/50], Loss: 0.0659\n",
      "Epoch [24/50], Loss: 0.0620\n",
      "Epoch [25/50], Loss: 0.0631\n",
      "Epoch [26/50], Loss: 0.0600\n",
      "Epoch [27/50], Loss: 0.0645\n",
      "Epoch [28/50], Loss: 0.0572\n",
      "Epoch [29/50], Loss: 0.0561\n",
      "Epoch [30/50], Loss: 0.0568\n",
      "Epoch [31/50], Loss: 0.0610\n",
      "Epoch [32/50], Loss: 0.0546\n",
      "Epoch [33/50], Loss: 0.0564\n",
      "Epoch [34/50], Loss: 0.0558\n",
      "Epoch [35/50], Loss: 0.0514\n",
      "Epoch [36/50], Loss: 0.0510\n",
      "Epoch [37/50], Loss: 0.0516\n",
      "Epoch [38/50], Loss: 0.0477\n",
      "Epoch [39/50], Loss: 0.0479\n",
      "Epoch [40/50], Loss: 0.0494\n",
      "Epoch [41/50], Loss: 0.0495\n",
      "Epoch [42/50], Loss: 0.0492\n",
      "Epoch [43/50], Loss: 0.0462\n",
      "Epoch [44/50], Loss: 0.0459\n",
      "Epoch [45/50], Loss: 0.0435\n",
      "Epoch [46/50], Loss: 0.0493\n",
      "Epoch [47/50], Loss: 0.0439\n",
      "Epoch [48/50], Loss: 0.0421\n",
      "Epoch [49/50], Loss: 0.0467\n",
      "Epoch [50/50], Loss: 0.0424\n",
      "Accuracy: 2065.67%\n"
     ]
    }
   ],
   "source": [
    "device = torch.device('cuda' if torch.cuda.is_available() else 'cpu')\n",
    "model = model.to(device)\n",
    "criterion = nn.BCELoss()\n",
    "optimizer = optim.Adam(model.parameters(), lr=0.001)\n",
    "NUM_EPOCHS = 50\n",
    "\n",
    "# Train the model\n",
    "train_model(model, criterion, optimizer, train_loader, num_epochs=NUM_EPOCHS)\n",
    "\n",
    "# Evaluate the model\n",
    "evaluate_model(model, test_loader)"
   ]
  },
  {
   "cell_type": "markdown",
   "id": "83a633e9",
   "metadata": {},
   "source": [
    "## Find the best noise factor"
   ]
  },
  {
   "cell_type": "code",
   "execution_count": 17,
   "id": "afb68f6f",
   "metadata": {},
   "outputs": [
    {
     "name": "stdout",
     "output_type": "stream",
     "text": [
      "Added noise with factor 0.001 to model weights.\n",
      "Noise Factor: 0.001, Accuracy: 2065.67%\n",
      "Added noise with factor 0.01 to model weights.\n",
      "Noise Factor: 0.01, Accuracy: 2076.98%\n",
      "Added noise with factor 0.1 to model weights.\n",
      "Noise Factor: 0.1, Accuracy: 1924.11%\n",
      "Added noise with factor 0.5 to model weights.\n",
      "Noise Factor: 0.5, Accuracy: 2279.06%\n",
      "Added noise with factor 1.0 to model weights.\n",
      "Noise Factor: 1.0, Accuracy: 53.51%\n",
      "Best Noise Factor: 0.5\n",
      "Best Accuracy: 2279.06%\n",
      "Best Noise Factor:  0.5\n"
     ]
    }
   ],
   "source": [
    "noise_factors = [0.001, 0.01, 0.1, 0.5, 1.0]\n",
    "best_noise_factor = tune_noise(model, test_loader, noise_factors)\n",
    "print('Best Noise Factor: ', best_noise_factor)"
   ]
  },
  {
   "cell_type": "markdown",
   "id": "95c467ff",
   "metadata": {},
   "source": [
    "## Evaluate model with the best noise factor"
   ]
  },
  {
   "cell_type": "code",
   "execution_count": 18,
   "id": "6777a220",
   "metadata": {},
   "outputs": [
    {
     "name": "stdout",
     "output_type": "stream",
     "text": [
      "Added noise with factor 0.5 to model weights.\n",
      "Accuracy: 565.17%\n",
      "Restored original model weights.\n"
     ]
    }
   ],
   "source": [
    "def test_with_best_noise(model, test_loader, best_noise_factor):\n",
    "    original_state_dict = model.state_dict()\n",
    "    add_noise_to_weights(model, best_noise_factor)\n",
    "    evaluate_model(model, test_loader)\n",
    "    model.load_state_dict(original_state_dict)\n",
    "    print(\"Restored original model weights.\")\n",
    "\n",
    "test_with_best_noise(model, test_loader, best_noise_factor)"
   ]
  },
  {
   "cell_type": "markdown",
   "id": "72108274",
   "metadata": {},
   "source": [
    "## Add different types of noise to model weights"
   ]
  },
  {
   "cell_type": "code",
   "execution_count": 19,
   "id": "047727dc",
   "metadata": {},
   "outputs": [],
   "source": [
    "def add_salt_and_pepper_noise(model, noise_factor):\n",
    "    with torch.no_grad():\n",
    "        for param in model.parameters():\n",
    "            mask = torch.rand(param.size()) < noise_factor\n",
    "            param[mask] = torch.rand(mask.sum().item())\n",
    "    print(f\"Added salt and pepper noise with factor {noise_factor} to model weights.\")\n",
    "\n",
    "def add_gaussian_noise(model, noise_factor):\n",
    "    with torch.no_grad():\n",
    "        for param in model.parameters():\n",
    "            noise = torch.randn(param.size()) * noise_factor\n",
    "            param.add_(noise)\n",
    "    print(f\"Added Gaussian noise with factor {noise_factor} to model weights.\")"
   ]
  },
  {
   "cell_type": "markdown",
   "id": "1b3fe60a",
   "metadata": {},
   "source": [
    "## Tune different noise hyperparameters"
   ]
  },
  {
   "cell_type": "code",
   "execution_count": 20,
   "id": "61f46ae4",
   "metadata": {},
   "outputs": [],
   "source": [
    "def tune_different_noises(model, test_loader, noise_factors, noise_type):\n",
    "    best_noise_factor = None\n",
    "    best_accuracy = 0\n",
    "    for noise_factor in noise_factors:\n",
    "        original_state_dict = model.state_dict()\n",
    "        if noise_type == 'salt_and_pepper':\n",
    "            add_salt_and_pepper_noise(model, noise_factor)\n",
    "        elif noise_type == 'gaussian':\n",
    "            add_gaussian_noise(model, noise_factor)\n",
    "        else:\n",
    "            add_noise_to_weights(model, noise_factor)\n",
    "        correct = 0\n",
    "        total = 0\n",
    "        with torch.no_grad():\n",
    "            for inputs, labels in test_loader:\n",
    "                inputs, labels = inputs.to(device), labels.to(device)\n",
    "                outputs = model(inputs)\n",
    "                predicted = (outputs > 0.5).float()\n",
    "                total += labels.size(0)\n",
    "                correct += (predicted == labels.unsqueeze(1)).sum().item()\n",
    "        accuracy = 100 * correct / total\n",
    "        print(f\"Noise Type: {noise_type}, Noise Factor: {noise_factor}, Accuracy: {accuracy:.2f}%\")\n",
    "        if accuracy > best_accuracy:\n",
    "            best_noise_factor = noise_factor\n",
    "            best_accuracy = accuracy\n",
    "        model.load_state_dict(original_state_dict)\n",
    "    print(f\"Best Noise Type: {noise_type}, Best Noise Factor: {best_noise_factor}\")\n",
    "    print(f\"Best Accuracy: {best_accuracy:.2f}%\")\n",
    "    return best_noise_factor"
   ]
  },
  {
   "cell_type": "markdown",
   "id": "2c57becc",
   "metadata": {},
   "source": [
    "## Find the best noise factor for different noise types"
   ]
  },
  {
   "cell_type": "code",
   "execution_count": 21,
   "id": "472e8cf6",
   "metadata": {},
   "outputs": [
    {
     "name": "stdout",
     "output_type": "stream",
     "text": [
      "Added salt and pepper noise with factor 0.001 to model weights.\n",
      "Noise Type: salt_and_pepper, Noise Factor: 0.001, Accuracy: 538.53%\n",
      "Added salt and pepper noise with factor 0.01 to model weights.\n",
      "Noise Type: salt_and_pepper, Noise Factor: 0.01, Accuracy: 558.30%\n",
      "Added salt and pepper noise with factor 0.1 to model weights.\n",
      "Noise Type: salt_and_pepper, Noise Factor: 0.1, Accuracy: 766.03%\n",
      "Added salt and pepper noise with factor 0.5 to model weights.\n",
      "Noise Type: salt_and_pepper, Noise Factor: 0.5, Accuracy: 3609.14%\n",
      "Added salt and pepper noise with factor 1.0 to model weights.\n",
      "Noise Type: salt_and_pepper, Noise Factor: 1.0, Accuracy: 3609.14%\n",
      "Best Noise Type: salt_and_pepper, Best Noise Factor: 0.5\n",
      "Best Accuracy: 3609.14%\n",
      "Added Gaussian noise with factor 0.001 to model weights.\n",
      "Noise Type: gaussian, Noise Factor: 0.001, Accuracy: 3609.14%\n",
      "Added Gaussian noise with factor 0.01 to model weights.\n",
      "Noise Type: gaussian, Noise Factor: 0.01, Accuracy: 3609.14%\n",
      "Added Gaussian noise with factor 0.1 to model weights.\n",
      "Noise Type: gaussian, Noise Factor: 0.1, Accuracy: 3609.14%\n",
      "Added Gaussian noise with factor 0.5 to model weights.\n",
      "Noise Type: gaussian, Noise Factor: 0.5, Accuracy: 3609.14%\n",
      "Added Gaussian noise with factor 1.0 to model weights.\n",
      "Noise Type: gaussian, Noise Factor: 1.0, Accuracy: 3609.14%\n",
      "Best Noise Type: gaussian, Best Noise Factor: 0.001\n",
      "Best Accuracy: 3609.14%\n",
      "Added noise with factor 0.001 to model weights.\n",
      "Noise Type: default, Noise Factor: 0.001, Accuracy: 3609.14%\n",
      "Added noise with factor 0.01 to model weights.\n",
      "Noise Type: default, Noise Factor: 0.01, Accuracy: 3609.14%\n",
      "Added noise with factor 0.1 to model weights.\n",
      "Noise Type: default, Noise Factor: 0.1, Accuracy: 3609.14%\n",
      "Added noise with factor 0.5 to model weights.\n",
      "Noise Type: default, Noise Factor: 0.5, Accuracy: 3609.14%\n",
      "Added noise with factor 1.0 to model weights.\n",
      "Noise Type: default, Noise Factor: 1.0, Accuracy: 3609.14%\n",
      "Best Noise Type: default, Best Noise Factor: 0.001\n",
      "Best Accuracy: 3609.14%\n",
      "Best Noise Factors:  {'salt_and_pepper': 0.5, 'gaussian': 0.001, 'default': 0.001}\n"
     ]
    }
   ],
   "source": [
    "noise_factors = [0.001, 0.01, 0.1, 0.5, 1.0]\n",
    "noise_types = ['salt_and_pepper', 'gaussian', 'default']\n",
    "best_noise_factors = {}\n",
    "for noise_type in noise_types:\n",
    "    best_noise_factor = tune_different_noises(model, test_loader, noise_factors, noise_type)\n",
    "    best_noise_factors[noise_type] = best_noise_factor\n",
    "print('Best Noise Factors: ', best_noise_factors)"
   ]
  },
  {
   "cell_type": "markdown",
   "id": "ac0ab418",
   "metadata": {},
   "source": [
    "## Evaluate model with the best noise factors"
   ]
  },
  {
   "cell_type": "code",
   "execution_count": 22,
   "id": "4ab66ad5",
   "metadata": {},
   "outputs": [
    {
     "name": "stdout",
     "output_type": "stream",
     "text": [
      "Testing with best noise type: salt_and_pepper, factor: 0.5\n",
      "Added salt and pepper noise with factor 0.5 to model weights.\n",
      "Accuracy: 3609.14%\n",
      "Restored original model weights.\n",
      "Testing with best noise type: gaussian, factor: 0.001\n",
      "Added Gaussian noise with factor 0.001 to model weights.\n",
      "Accuracy: 3609.14%\n",
      "Restored original model weights.\n",
      "Testing with best noise type: default, factor: 0.001\n",
      "Added noise with factor 0.001 to model weights.\n",
      "Accuracy: 3609.14%\n",
      "Restored original model weights.\n"
     ]
    }
   ],
   "source": [
    "def test_with_best_noises(model, test_loader, best_noise_factors):\n",
    "    for noise_type, noise_factor in best_noise_factors.items():\n",
    "        print(f\"Testing with best noise type: {noise_type}, factor: {noise_factor}\")\n",
    "        original_state_dict = model.state_dict()\n",
    "        if noise_type == 'salt_and_pepper':\n",
    "            add_salt_and_pepper_noise(model, noise_factor)\n",
    "        elif noise_type == 'gaussian':\n",
    "            add_gaussian_noise(model, noise_factor)\n",
    "        else:\n",
    "            add_noise_to_weights(model, noise_factor)\n",
    "        evaluate_model(model, test_loader)\n",
    "        model.load_state_dict(original_state_dict)\n",
    "        print(\"Restored original model weights.\")\n",
    "\n",
    "test_with_best_noises(model, test_loader, best_noise_factors)"
   ]
  },
  {
   "cell_type": "code",
   "execution_count": null,
   "id": "eefe4271",
   "metadata": {},
   "outputs": [],
   "source": []
  }
 ],
 "metadata": {
  "kernelspec": {
   "display_name": "base",
   "language": "python",
   "name": "python3"
  },
  "language_info": {
   "codemirror_mode": {
    "name": "ipython",
    "version": 3
   },
   "file_extension": ".py",
   "mimetype": "text/x-python",
   "name": "python",
   "nbconvert_exporter": "python",
   "pygments_lexer": "ipython3",
   "version": "3.8.8"
  }
 },
 "nbformat": 4,
 "nbformat_minor": 5
}
