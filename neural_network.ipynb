{
 "cells": [
  {
   "cell_type": "code",
   "execution_count": 9,
   "metadata": {},
   "outputs": [],
   "source": [
    "import torch\n",
    "import torch.nn as nn\n",
    "import torch.optim as optim\n",
    "from torch.utils.data import DataLoader"
   ]
  },
  {
   "cell_type": "markdown",
   "metadata": {},
   "source": [
    "# Neural Network for malware detection\n",
    "\n",
    "A simple feedforward neural network with fully connected layers, suitable for binary classification (malware detection)"
   ]
  },
  {
   "cell_type": "code",
   "execution_count": 3,
   "metadata": {},
   "outputs": [],
   "source": [
    "class MalwareDetector(nn.Module):\n",
    "    def __init__(self, input_size, hidden_size, output_size):\n",
    "        super(MalwareDetector, self).__init__()\n",
    "        \n",
    "        #fully connected layers\n",
    "        self.fc1 = nn.Linear(input_size, hidden_size)\n",
    "        self.fc2 = nn.Linear(hidden_size, hidden_size)\n",
    "        self.fc3 = nn.Linear(hidden_size, output_size)\n",
    "        \n",
    "        # Activation function (ReLU)\n",
    "        self.relu = nn.ReLU()\n",
    "        \n",
    "        # Output activation (Sigmoid for binary classification)\n",
    "        self.sigmoid = nn.Sigmoid()\n",
    "    \n",
    "    def forward(self, x):\n",
    "        # Pass through layers with ReLU activations\n",
    "        x = self.relu(self.fc1(x))\n",
    "        x = self.relu(self.fc2(x))\n",
    "        x = self.sigmoid(self.fc3(x))  # For binary classification (0 or 1)\n",
    "        return x"
   ]
  },
  {
   "cell_type": "markdown",
   "metadata": {},
   "source": [
    "#### neural network parameters"
   ]
  },
  {
   "cell_type": "code",
   "execution_count": null,
   "metadata": {},
   "outputs": [],
   "source": [
    "\n",
    "input_size = 100  # da cambiare in base al numero di features nel dataset\n",
    "hidden_size = 64  #32, 64, 128, 256 A larger hidden_size increases the capacity of the model to capture complex patterns but may lead to overfitting, especially if the dataset is small.\n",
    "output_size = 1    # Binary classification (malware or not)\n",
    "\n",
    "model = MalwareDetector(input_size, hidden_size, output_size)"
   ]
  },
  {
   "cell_type": "markdown",
   "metadata": {},
   "source": [
    "### Train Hyperparameters"
   ]
  },
  {
   "cell_type": "code",
   "execution_count": 6,
   "metadata": {},
   "outputs": [],
   "source": [
    "# Hyperparameters\n",
    "criterion = nn.BCELoss()  # Binary Cross Entropy Loss\n",
    "learning_rate = 0.001\n",
    "optimizer = optim.Adam(model.parameters(), lr=learning_rate)\n",
    "BATCH_SIZE = 32\n",
    "NUM_EPOCHS = 50"
   ]
  },
  {
   "cell_type": "markdown",
   "metadata": {},
   "source": [
    "## Train model"
   ]
  },
  {
   "cell_type": "code",
   "execution_count": 7,
   "metadata": {},
   "outputs": [],
   "source": [
    "# Example training loop\n",
    "def train_model(model, criterion, optimizer, train_loader, num_epochs=20):\n",
    "    model.train()  # Set the model to training mode\n",
    "    \n",
    "    for epoch in range(num_epochs):\n",
    "        running_loss = 0.0\n",
    "        for inputs, labels in train_loader:\n",
    "            # Move data to GPU if available\n",
    "            inputs, labels = inputs.to(device), labels.to(device)\n",
    "            \n",
    "            # Zero the parameter gradients\n",
    "            optimizer.zero_grad()\n",
    "            \n",
    "            # Forward pass\n",
    "            outputs = model(inputs)\n",
    "            loss = criterion(outputs, labels.unsqueeze(1).float())\n",
    "            \n",
    "            # Backward pass and optimize\n",
    "            loss.backward()\n",
    "            optimizer.step()\n",
    "            \n",
    "            running_loss += loss.item()\n",
    "        \n",
    "        # Print loss every epoch\n",
    "        print(f\"Epoch [{epoch+1}/{num_epochs}], Loss: {running_loss/len(train_loader):.4f}\")\n",
    "\n",
    "device = torch.device('cuda' if torch.cuda.is_available() else 'cpu')\n",
    "model = model.to(device)"
   ]
  },
  {
   "cell_type": "code",
   "execution_count": null,
   "metadata": {},
   "outputs": [],
   "source": [
    "train_loader = DataLoader(train_dataset, batch_size=BATCH_SIZE, shuffle=True)"
   ]
  },
  {
   "cell_type": "code",
   "execution_count": null,
   "metadata": {},
   "outputs": [],
   "source": [
    "train_model(model, criterion, optimizer, train_loader, num_epochs=NUM_EPOCHS)"
   ]
  },
  {
   "cell_type": "markdown",
   "metadata": {},
   "source": [
    "## Evaluate model"
   ]
  },
  {
   "cell_type": "code",
   "execution_count": null,
   "metadata": {},
   "outputs": [],
   "source": [
    "def evaluate_model(model, test_loader):\n",
    "    model.eval()  # Set the model to evaluation mode\n",
    "    correct = 0\n",
    "    total = 0\n",
    "    \n",
    "    with torch.no_grad():\n",
    "        for inputs, labels in test_loader:\n",
    "            inputs, labels = inputs.to(device), labels.to(device)\n",
    "            outputs = model(inputs)\n",
    "            predicted = (outputs > 0.5).float()  # Convert probabilities to binary labels\n",
    "            total += labels.size(0)\n",
    "            correct += (predicted == labels.unsqueeze(1)).sum().item()\n",
    "    \n",
    "    print(f'Accuracy: {100 * correct / total:.2f}%')\n",
    "\n",
    "# Assuming test_loader is your DataLoader for the test data\n",
    "evaluate_model(model, test_loader)\n"
   ]
  },
  {
   "cell_type": "markdown",
   "metadata": {},
   "source": [
    "# NOISE\n",
    "noise_factor: Controls how much noise to add. A small value like 0.01 adds subtle noise, while a larger value like 0.1 adds more significant perturbations."
   ]
  },
  {
   "cell_type": "code",
   "execution_count": 10,
   "metadata": {},
   "outputs": [],
   "source": [
    "NOISE_FACTOR = 0.01\n",
    "\n",
    "def add_noise_to_weights(model, noise_factor):\n",
    "    \"\"\"Adds random Gaussian noise to the model's weights.\n",
    "    \n",
    "    Args:\n",
    "        model: PyTorch neural network model.\n",
    "        noise_factor: The magnitude of the noise to be added to the weights.\n",
    "    \"\"\"\n",
    "    with torch.no_grad():  # No need to track gradients\n",
    "        for param in model.parameters():\n",
    "            noise = torch.randn(param.size()) * noise_factor\n",
    "            param.add_(noise)  # Add noise to the current parameters\n",
    "\n",
    "    print(f\"Added noise with factor {noise_factor} to model weights.\")\n"
   ]
  },
  {
   "cell_type": "markdown",
   "metadata": {},
   "source": [
    "## evaluate model with noise"
   ]
  },
  {
   "cell_type": "code",
   "execution_count": 12,
   "metadata": {},
   "outputs": [],
   "source": [
    "def test_with_noise(model, test_loader, noise_factor):\n",
    "    \"\"\"Test the model after adding noise to the weights.\"\"\"\n",
    "    # Save the original weights\n",
    "    original_state_dict = model.state_dict()\n",
    "\n",
    "    # Add noise to the model\n",
    "    add_noise_to_weights(model, noise_factor=noise_factor)\n",
    "\n",
    "    # Evaluate the model with noisy weights\n",
    "    print(\"Testing model with noisy weights...\")\n",
    "    evaluate_model(model, test_loader)\n",
    "\n",
    "    # Restore the original weights after testing\n",
    "    model.load_state_dict(original_state_dict)\n",
    "    print(\"Restored original model weights.\")\n"
   ]
  },
  {
   "cell_type": "code",
   "execution_count": null,
   "metadata": {},
   "outputs": [],
   "source": [
    "test_with_noise(model, test_loader, noise_factor=NOISE_FACTOR)"
   ]
  },
  {
   "cell_type": "markdown",
   "metadata": {},
   "source": [
    "### another possibility of evaluating"
   ]
  },
  {
   "cell_type": "code",
   "execution_count": 13,
   "metadata": {},
   "outputs": [],
   "source": [
    "def evaluate_with_poisoned_tracking(model, test_loader, poisoned_indices, noise_factor=0.01):\n",
    "    \"\"\"Evaluate the model after adding noise and track the effect on poisoned vs. clean samples.\"\"\"\n",
    "    model.eval()\n",
    "    total = 0\n",
    "    correct_poisoned = 0\n",
    "    correct_clean = 0\n",
    "    poisoned_samples = 0\n",
    "    clean_samples = 0\n",
    "\n",
    "    # Add noise to the model\n",
    "    add_noise_to_weights(model, noise_factor=noise_factor)\n",
    "\n",
    "    with torch.no_grad():\n",
    "        for i, (inputs, labels) in enumerate(test_loader):\n",
    "            inputs, labels = inputs.to(device), labels.to(device)\n",
    "            outputs = model(inputs)\n",
    "            predicted = (outputs > 0.5).float()\n",
    "\n",
    "            # Track accuracy for poisoned vs. clean samples\n",
    "            for idx, prediction in enumerate(predicted):\n",
    "                total += 1\n",
    "                is_poisoned = i * len(predicted) + idx in poisoned_indices\n",
    "                \n",
    "                if is_poisoned:\n",
    "                    poisoned_samples += 1\n",
    "                    correct_poisoned += (prediction == labels[idx]).item()\n",
    "                else:\n",
    "                    clean_samples += 1\n",
    "                    correct_clean += (prediction == labels[idx]).item()\n",
    "\n",
    "    # Calculate accuracy for poisoned and clean samples\n",
    "    accuracy_poisoned = 100 * correct_poisoned / poisoned_samples if poisoned_samples > 0 else 0\n",
    "    accuracy_clean = 100 * correct_clean / clean_samples if clean_samples > 0 else 0\n",
    "\n",
    "    print(f\"Accuracy on poisoned samples: {accuracy_poisoned:.2f}%\")\n",
    "    print(f\"Accuracy on clean samples: {accuracy_clean:.2f}%\")\n",
    "\n",
    "    # Restore the original weights\n",
    "    model.load_state_dict(original_state_dict)\n"
   ]
  }
 ],
 "metadata": {
  "kernelspec": {
   "display_name": "base",
   "language": "python",
   "name": "python3"
  },
  "language_info": {
   "codemirror_mode": {
    "name": "ipython",
    "version": 3
   },
   "file_extension": ".py",
   "mimetype": "text/x-python",
   "name": "python",
   "nbconvert_exporter": "python",
   "pygments_lexer": "ipython3",
   "version": "3.11.5"
  }
 },
 "nbformat": 4,
 "nbformat_minor": 2
}
